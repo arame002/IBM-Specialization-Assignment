{
  "metadata": {
    "kernelspec": {
      "name": "python",
      "display_name": "Python (Pyodide)",
      "language": "python"
    },
    "language_info": {
      "codemirror_mode": {
        "name": "python",
        "version": 3
      },
      "file_extension": ".py",
      "mimetype": "text/x-python",
      "name": "python",
      "nbconvert_exporter": "python",
      "pygments_lexer": "ipython3",
      "version": "3.8"
    }
  },
  "nbformat_minor": 4,
  "nbformat": 4,
  "cells": [
    {
      "cell_type": "markdown",
      "source": "# Data Science Tools and Ecosystem",
      "metadata": {}
    },
    {
      "cell_type": "markdown",
      "source": "## Introduction",
      "metadata": {}
    },
    {
      "cell_type": "markdown",
      "source": "### Data Science Languages:\n1. Python\n2. R\n3. Julia\n4. C++",
      "metadata": {}
    },
    {
      "cell_type": "markdown",
      "source": "### Data Science Libraries:\n1. Pandas\n2. NumPy\n3. Matplotlib\n4. Seaborn\n5. Scikit-learn",
      "metadata": {}
    },
    {
      "cell_type": "markdown",
      "source": "### Data Science Tools:\n| Data Science Tools|\n|-|\n| Jupyter Notebook |\n| Anaconda |\n| Github |\n| VScode |\n",
      "metadata": {}
    },
    {
      "cell_type": "markdown",
      "source": "### Arithmetic Expression Examples",
      "metadata": {}
    },
    {
      "cell_type": "code",
      "source": "a = 2\nb = 3\nc = a + b\nd = a * b\nprint(f\"sum of {a} and {b} is {c}.\")\nprint(f\"product of {a} and {b} is {d}.\")",
      "metadata": {
        "trusted": true
      },
      "outputs": [
        {
          "name": "stdout",
          "text": "sum of 2 and 3 is 5.\nproduct of 2 and 3 is 6.\n",
          "output_type": "stream"
        }
      ],
      "execution_count": 10
    },
    {
      "cell_type": "code",
      "source": "minutes = 90\nhours = minutes / 60.0\n\nprint(f\"{minutes} minutes is equal to {hours:.2f} hours.\")",
      "metadata": {
        "trusted": true
      },
      "outputs": [
        {
          "name": "stdout",
          "text": "90 minutes is equal to 1.50 hours.\n",
          "output_type": "stream"
        }
      ],
      "execution_count": 11
    },
    {
      "cell_type": "markdown",
      "source": "### **Objectives**\n* Learn about data science languages\n* Learn about data science libraries\n* Lear how to work with IDEs ( Jupyter, VScode, etc.)\n* Learn about version controlling (Git, Github, Bitbucket, etc.)",
      "metadata": {}
    },
    {
      "cell_type": "markdown",
      "source": "created by **Alireza Ramezani**.",
      "metadata": {}
    }
  ]
}